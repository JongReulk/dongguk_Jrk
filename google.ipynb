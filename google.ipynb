{
 "cells": [
  {
   "cell_type": "code",
   "execution_count": 1,
   "metadata": {},
   "outputs": [
    {
     "name": "stdout",
     "output_type": "stream",
     "text": [
      "mid: \"/m/0w7s\"\n",
      "description: \"Aerospace engineering\"\n",
      "score: 0.9498666524887085\n",
      "topicality: 0.9498666524887085\n",
      "\n",
      "mid: \"/m/0cmf2\"\n",
      "description: \"Airplane\"\n",
      "score: 0.9481050968170166\n",
      "topicality: 0.9481050968170166\n",
      "\n",
      "mid: \"/m/0vg8\"\n",
      "description: \"Airline\"\n",
      "score: 0.9441336393356323\n",
      "topicality: 0.9441336393356323\n",
      "\n",
      "mid: \"/m/07yv9\"\n",
      "description: \"Vehicle\"\n",
      "score: 0.9291238188743591\n",
      "topicality: 0.9291238188743591\n",
      "\n",
      "mid: \"/m/0dhz0\"\n",
      "description: \"Airliner\"\n",
      "score: 0.903662383556366\n",
      "topicality: 0.903662383556366\n",
      "\n",
      "mid: \"/m/0fzyg\"\n",
      "description: \"Aviation\"\n",
      "score: 0.8992794752120972\n",
      "topicality: 0.8992794752120972\n",
      "\n",
      "mid: \"/m/025t3bg\"\n",
      "description: \"Air travel\"\n",
      "score: 0.8986411690711975\n",
      "topicality: 0.8986411690711975\n",
      "\n",
      "mid: \"/m/0k5j\"\n",
      "description: \"Aircraft\"\n",
      "score: 0.8764477372169495\n",
      "topicality: 0.8764477372169495\n",
      "\n",
      "mid: \"/m/0dp7vs\"\n",
      "description: \"Narrow-body aircraft\"\n",
      "score: 0.8055951595306396\n",
      "topicality: 0.8055951595306396\n",
      "\n",
      "mid: \"/m/09cjl\"\n",
      "description: \"Airport\"\n",
      "score: 0.7273033857345581\n",
      "topicality: 0.7273033857345581\n",
      "\n"
     ]
    }
   ],
   "source": [
    "def run_label(file_name): // 라벨 추출\n",
    "    import io\n",
    "    import os\n",
    " \n",
    "    from google.cloud import vision\n",
    "    from google.cloud.vision import types\n",
    " \n",
    "    client = vision.ImageAnnotatorClient()\n",
    "    \n",
    "    with io.open(file_name, 'rb') as image_file:\n",
    "        content = image_file.read()\n",
    " \n",
    "    image = types.Image(content=content)\n",
    " \n",
    "    response = client.label_detection(image=image)\n",
    "    labels = response.label_annotations\n",
    "\n",
    "    \n",
    "    for label in labels:\n",
    "        print(label)  \n",
    "    \n",
    "if __name__ == '__main__':\n",
    "    run_label(\"news.jpg\")\n",
    "    \n",
    "    "
   ]
  },
  {
   "cell_type": "code",
   "execution_count": 10,
   "metadata": {},
   "outputs": [
    {
     "name": "stdout",
     "output_type": "stream",
     "text": [
      "쓸수록 줄어듭니다\n",
      "지구 온난화의 원인 일회용 종이컵,\n",
      "쓸수록 북극곰들의 집은 줄어듭니다.\n",
      "kobacó\n",
      "공익광고협의회\n",
      "\n"
     ]
    }
   ],
   "source": [
    "def run_ocr(file_name): // text 추출\n",
    "    import io\n",
    "    import os\n",
    " \n",
    "    # 구글 라이브러리 import\n",
    "    from google.cloud import vision\n",
    "    from google.cloud.vision import types\n",
    " \n",
    "    # 사용할 클라이언트 설정\n",
    "    client = vision.ImageAnnotatorClient()\n",
    "    \n",
    "    # 이미지 읽기\n",
    "    with io.open(file_name, 'rb') as image_file:\n",
    "        content = image_file.read()\n",
    " \n",
    "    image = types.Image(content=content)\n",
    "    \n",
    "    response_ocr= client.text_detection(image=image)\n",
    "    \n",
    "    texts=response_ocr.text_annotations\n",
    "    \n",
    "    textocr = texts[0].description\n",
    "    \n",
    "    print(textocr)\n",
    "    \n",
    "    \n",
    "if __name__ == '__main__':\n",
    "    run_ocr(\"ocr1.png\")"
   ]
  },
  {
   "cell_type": "code",
   "execution_count": 15,
   "metadata": {},
   "outputs": [
    {
     "name": "stdout",
     "output_type": "stream",
     "text": [
      "{'translatedText': '안녕하세요, 한국!', 'detectedSourceLanguage': 'en', 'input': 'Hello, Korea!'}\n",
      "{'translatedText': 'こんにちは、韓国！', 'detectedSourceLanguage': 'en', 'input': 'Hello, Korea!'}\n"
     ]
    }
   ],
   "source": [
    "from google.cloud import translate_v2 as translate // 해석\n",
    "\n",
    "# Instantiates a client\n",
    "translate_client = translate.Client()\n",
    "\n",
    "# The text to translate\n",
    "text = 'Hello, Korea!'\n",
    "\n",
    "translation = translate_client.translate(\n",
    "    text,\n",
    "    target_language='ko')\n",
    "\n",
    "translation2 = translate_client.translate(\n",
    "    text,\n",
    "    target_language='ja')\n",
    "    \n",
    "print(translation)\n",
    "\n",
    "print(translation2)\n",
    "\n"
   ]
  },
  {
   "cell_type": "code",
   "execution_count": 19,
   "metadata": {
    "collapsed": true
   },
   "outputs": [],
   "source": [
    "ccc= ['헤어', '얼굴', '헤어스타일', '입술', '스킨', '눈썹', '머리', '뷰티', '앞머리', '염색']\n",
    "ddd= [0.92, 0.92, 0.88, 0.8, 0.8, 0.73, 0.7, 0.69, 0.66, 0.61]\n",
    "\n",
    "dict_r={}\n",
    "i=0\n",
    "for i in range(10):\n",
    "    dict_r[ccc[i]]=ddd[i]"
   ]
  },
  {
   "cell_type": "code",
   "execution_count": 20,
   "metadata": {},
   "outputs": [
    {
     "data": {
      "text/plain": [
       "{'눈썹': 0.73,\n",
       " '머리': 0.7,\n",
       " '뷰티': 0.69,\n",
       " '스킨': 0.8,\n",
       " '앞머리': 0.66,\n",
       " '얼굴': 0.92,\n",
       " '염색': 0.61,\n",
       " '입술': 0.8,\n",
       " '헤어': 0.92,\n",
       " '헤어스타일': 0.88}"
      ]
     },
     "execution_count": 20,
     "metadata": {},
     "output_type": "execute_result"
    }
   ],
   "source": [
    "dict_r"
   ]
  }
 ],
 "metadata": {
  "kernelspec": {
   "display_name": "Python 3",
   "language": "python",
   "name": "python3"
  },
  "language_info": {
   "codemirror_mode": {
    "name": "ipython",
    "version": 3
   },
   "file_extension": ".py",
   "mimetype": "text/x-python",
   "name": "python",
   "nbconvert_exporter": "python",
   "pygments_lexer": "ipython3",
   "version": "3.6.1"
  }
 },
 "nbformat": 4,
 "nbformat_minor": 2
}
